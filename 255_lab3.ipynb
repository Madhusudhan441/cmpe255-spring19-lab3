{
 "cells": [
  {
   "cell_type": "code",
   "execution_count": 54,
   "metadata": {},
   "outputs": [
    {
     "name": "stdout",
     "output_type": "stream",
     "text": [
      "::Prediction:: neg ::Tweet  \"Like the tweetdeck for iPhone  - can't sync columns ATM tho \"\n",
      "\n",
      "::Prediction:: neg ::Tweet  \"Line at McDonalds was too long so I can't get my sausage biscuit on \"\n",
      "\n",
      "::Prediction:: neg ::Tweet  \"Link: Farrah Fawcett Dies of Cancer at 62  http://tumblr.com/x5h25fy5j\"\n",
      "\n",
      "::Prediction:: neg ::Tweet  \"Listening to Bjork's All is full of Love... crying \"\n",
      "\n",
      "::Prediction:: neg ::Tweet  \"listening to harry potter soundtracks  too bad i can't see the movie the 15th of july, i'll be in england by then, back on the 19th. crap!\"\n",
      "\n",
      "::Prediction:: pos ::Tweet  \"listening to taylor swift, her music makes me sad \"\n",
      "\n",
      "::Prediction:: neg ::Tweet  \"Lol! watched csi today! it was the one with taylor swift!! but she died.. sad \"\n",
      "\n",
      "::Prediction:: neg ::Tweet  \"London had to get five shots today I felt terrible were both miserable him from the shots me from my root canal \"\n",
      "\n",
      "::Prediction:: neg ::Tweet  \"Long night! I feel terrible because I didn't eat before I went to work! Headache, muscle aches, and an all over \"\n",
      "\n",
      "::Prediction:: neg ::Tweet  \"Looking around on the web for something to entertain me the way Facebook did... alas... nothing. \"\n",
      "\n",
      "Accuracy=0.800498753117207\n"
     ]
    }
   ],
   "source": [
    "def load_data():\n",
    "    data = []\n",
    "    data_labels = []\n",
    "    with open(\"D:/255/cmpe255-spring19-master/lab3/pos_tweets.txt\",encoding=\"utf8\") as f:\n",
    "        for i in f: \n",
    "            data.append(i) \n",
    "            data_labels.append('pos')\n",
    "\n",
    "    with open(\"D:/255/cmpe255-spring19-master/lab3/neg_tweets.txt\",encoding=\"utf8\") as f:\n",
    "        for i in f: \n",
    "            data.append(i)\n",
    "            data_labels.append('neg')\n",
    "\n",
    "    return data, data_labels\n",
    "\n",
    "def transform_to_features(data):\n",
    "    from sklearn.feature_extraction.text import CountVectorizer\n",
    "    vectorizer = CountVectorizer(\n",
    "        analyzer = 'word',\n",
    "        lowercase = False,\n",
    "    )\n",
    "    features = vectorizer.fit_transform(\n",
    "        data\n",
    "    )\n",
    "    features_nd = features.toarray()\n",
    "    return features_nd\n",
    "\n",
    "def train_then_build_model(data_labels, features_nd,data):\n",
    "    from sklearn.cross_validation import train_test_split\n",
    "    # TODO : set training % to 80%.\n",
    "    X_train, X_test, y_train, y_test  = train_test_split(\n",
    "        features_nd, \n",
    "        data_labels,\n",
    "        train_size=0.80, \n",
    "        random_state=1234)\n",
    "\n",
    "    from sklearn.linear_model import LogisticRegression\n",
    "    log_model = LogisticRegression()\n",
    "\n",
    "    log_model = log_model.fit(X=X_train, y=y_train)\n",
    "    y_pred = log_model.predict(X_test)\n",
    "    val1 = len(X_train)\n",
    "    for i in range(10):\n",
    "        print(\"::Prediction::\",y_pred[i],\"::Tweet \",data[val1+i])\n",
    "    # ::{prediction}::{tweet}\n",
    "    # TODO\n",
    "    \n",
    "   \n",
    "    \n",
    "    # print accuracy\n",
    "    from sklearn.metrics import accuracy_score\n",
    "    val = accuracy_score(y_test, y_pred)\n",
    "    print(\"Accuracy={}\".format(val))\n",
    "\n",
    "def process():\n",
    "    data, data_labels = load_data()\n",
    "    features_nd = transform_to_features(data)\n",
    "    train_then_build_model(data_labels, features_nd,data)\n",
    "\n",
    "\n",
    "process()\n"
   ]
  },
  {
   "cell_type": "code",
   "execution_count": null,
   "metadata": {},
   "outputs": [],
   "source": []
  }
 ],
 "metadata": {
  "kernelspec": {
   "display_name": "Python 3",
   "language": "python",
   "name": "python3"
  },
  "language_info": {
   "codemirror_mode": {
    "name": "ipython",
    "version": 3
   },
   "file_extension": ".py",
   "mimetype": "text/x-python",
   "name": "python",
   "nbconvert_exporter": "python",
   "pygments_lexer": "ipython3",
   "version": "3.7.0"
  }
 },
 "nbformat": 4,
 "nbformat_minor": 2
}
